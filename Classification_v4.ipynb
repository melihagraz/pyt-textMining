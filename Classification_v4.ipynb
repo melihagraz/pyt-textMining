{
 "cells": [
  {
   "cell_type": "markdown",
   "metadata": {},
   "source": [
    "# Description\n",
    "\n",
    "#### Project  <span style=\"color:blue\">NLP for divorce court decision documents</span> \n",
    "\n",
    "#### Content  <span style=\"color:blue\">Classifying text documents</span> \n",
    "\n",
    "#### Notebook Language  <span style=\"color:blue\">python</span> \n"
   ]
  },
  {
   "cell_type": "code",
   "execution_count": 14,
   "metadata": {},
   "outputs": [
    {
     "ename": "ImportError",
     "evalue": "C extension: No module named tslib not built. If you want to import pandas from the source directory, you may need to run 'python setup.py build_ext --inplace --force' to build the C extensions first.",
     "output_type": "error",
     "traceback": [
      "\u001b[0;31m---------------------------------------------------------------------------\u001b[0m",
      "\u001b[0;31mImportError\u001b[0m                               Traceback (most recent call last)",
      "\u001b[0;32m<ipython-input-14-b6ff6a2aedb6>\u001b[0m in \u001b[0;36m<module>\u001b[0;34m()\u001b[0m\n\u001b[1;32m      2\u001b[0m \u001b[0msys\u001b[0m\u001b[0;34m.\u001b[0m\u001b[0mpath\u001b[0m\u001b[0;34m.\u001b[0m\u001b[0minsert\u001b[0m\u001b[0;34m(\u001b[0m\u001b[0;36m0\u001b[0m\u001b[0;34m,\u001b[0m \u001b[0;34m\"/usr/local/lib/python3.5/dist-packages\"\u001b[0m\u001b[0;34m)\u001b[0m\u001b[0;34m\u001b[0m\u001b[0m\n\u001b[1;32m      3\u001b[0m \u001b[0;32mimport\u001b[0m \u001b[0mre\u001b[0m \u001b[0;31m#for string operations\u001b[0m\u001b[0;34m\u001b[0m\u001b[0m\n\u001b[0;32m----> 4\u001b[0;31m \u001b[0;32mimport\u001b[0m \u001b[0mpandas\u001b[0m \u001b[0;32mas\u001b[0m \u001b[0mpd\u001b[0m \u001b[0;31m#for dataframes\u001b[0m\u001b[0;34m\u001b[0m\u001b[0m\n\u001b[0m\u001b[1;32m      5\u001b[0m \u001b[0;32mfrom\u001b[0m \u001b[0mgensim\u001b[0m\u001b[0;34m.\u001b[0m\u001b[0mmodels\u001b[0m \u001b[0;32mimport\u001b[0m \u001b[0mWord2Vec\u001b[0m \u001b[0;31m#Word2Vec\u001b[0m\u001b[0;34m\u001b[0m\u001b[0m\n\u001b[1;32m      6\u001b[0m \u001b[0;32mimport\u001b[0m \u001b[0mnumpy\u001b[0m \u001b[0;32mas\u001b[0m \u001b[0mnp\u001b[0m\u001b[0;34m\u001b[0m\u001b[0m\n",
      "\u001b[0;32m/usr/local/lib/python3.5/dist-packages/pandas/__init__.py\u001b[0m in \u001b[0;36m<module>\u001b[0;34m()\u001b[0m\n\u001b[1;32m     33\u001b[0m                       \u001b[0;34m\"pandas from the source directory, you may need to run \"\u001b[0m\u001b[0;34m\u001b[0m\u001b[0m\n\u001b[1;32m     34\u001b[0m                       \u001b[0;34m\"'python setup.py build_ext --inplace --force' to build \"\u001b[0m\u001b[0;34m\u001b[0m\u001b[0m\n\u001b[0;32m---> 35\u001b[0;31m                       \"the C extensions first.\".format(module))\n\u001b[0m\u001b[1;32m     36\u001b[0m \u001b[0;34m\u001b[0m\u001b[0m\n\u001b[1;32m     37\u001b[0m \u001b[0;32mfrom\u001b[0m \u001b[0mdatetime\u001b[0m \u001b[0;32mimport\u001b[0m \u001b[0mdatetime\u001b[0m\u001b[0;34m\u001b[0m\u001b[0m\n",
      "\u001b[0;31mImportError\u001b[0m: C extension: No module named tslib not built. If you want to import pandas from the source directory, you may need to run 'python setup.py build_ext --inplace --force' to build the C extensions first."
     ]
    }
   ],
   "source": [
    "import sys\n",
    "sys.path.insert(0, \"/usr/local/lib/python3.5/dist-packages\")\n",
    "import re #for string operations\n",
    "import pandas as pd #for dataframes\n",
    "from gensim.models import Word2Vec #Word2Vec\n",
    "import numpy as np\n",
    "from sklearn.feature_extraction.text import CountVectorizer\n",
    "from sklearn.decomposition import TruncatedSVD\n",
    "from sklearn.pipeline import make_pipeline\n",
    "from sklearn.preprocessing import Normalizer\n",
    "from sklearn.model_selection import train_test_split\n",
    "from sklearn.neighbors import KNeighborsClassifier\n",
    "from matplotlib import pyplot as plt"
   ]
  },
  {
   "cell_type": "code",
   "execution_count": 13,
   "metadata": {},
   "outputs": [
    {
     "ename": "ImportError",
     "evalue": "C extension: No module named tslib not built. If you want to import pandas from the source directory, you may need to run 'python setup.py build_ext --inplace --force' to build the C extensions first.",
     "output_type": "error",
     "traceback": [
      "\u001b[0;31m---------------------------------------------------------------------------\u001b[0m",
      "\u001b[0;31mImportError\u001b[0m                               Traceback (most recent call last)",
      "\u001b[0;32m<ipython-input-13-7dd3504c366f>\u001b[0m in \u001b[0;36m<module>\u001b[0;34m()\u001b[0m\n\u001b[0;32m----> 1\u001b[0;31m \u001b[0;32mimport\u001b[0m \u001b[0mpandas\u001b[0m \u001b[0;32mas\u001b[0m \u001b[0mpd\u001b[0m\u001b[0;34m\u001b[0m\u001b[0m\n\u001b[0m",
      "\u001b[0;32m/usr/local/lib/python3.5/dist-packages/pandas/__init__.py\u001b[0m in \u001b[0;36m<module>\u001b[0;34m()\u001b[0m\n\u001b[1;32m     33\u001b[0m                       \u001b[0;34m\"pandas from the source directory, you may need to run \"\u001b[0m\u001b[0;34m\u001b[0m\u001b[0m\n\u001b[1;32m     34\u001b[0m                       \u001b[0;34m\"'python setup.py build_ext --inplace --force' to build \"\u001b[0m\u001b[0;34m\u001b[0m\u001b[0m\n\u001b[0;32m---> 35\u001b[0;31m                       \"the C extensions first.\".format(module))\n\u001b[0m\u001b[1;32m     36\u001b[0m \u001b[0;34m\u001b[0m\u001b[0m\n\u001b[1;32m     37\u001b[0m \u001b[0;32mfrom\u001b[0m \u001b[0mdatetime\u001b[0m \u001b[0;32mimport\u001b[0m \u001b[0mdatetime\u001b[0m\u001b[0;34m\u001b[0m\u001b[0m\n",
      "\u001b[0;31mImportError\u001b[0m: C extension: No module named tslib not built. If you want to import pandas from the source directory, you may need to run 'python setup.py build_ext --inplace --force' to build the C extensions first."
     ]
    }
   ],
   "source": [
    "import pandas as pd"
   ]
  },
  {
   "cell_type": "code",
   "execution_count": 11,
   "metadata": {},
   "outputs": [
    {
     "ename": "ImportError",
     "evalue": "No module named kodex_nlp",
     "output_type": "error",
     "traceback": [
      "\u001b[0;31m---------------------------------------------------------------------------\u001b[0m",
      "\u001b[0;31mImportError\u001b[0m                               Traceback (most recent call last)",
      "\u001b[0;32m<ipython-input-11-a8487f5a7861>\u001b[0m in \u001b[0;36m<module>\u001b[0;34m()\u001b[0m\n\u001b[0;32m----> 1\u001b[0;31m \u001b[0;32mfrom\u001b[0m \u001b[0mkodex_nlp\u001b[0m \u001b[0;32mimport\u001b[0m \u001b[0mread_files\u001b[0m\u001b[0;34m,\u001b[0m \u001b[0mget_stemmer\u001b[0m \u001b[0;31m#user functions\u001b[0m\u001b[0;34m\u001b[0m\u001b[0m\n\u001b[0m",
      "\u001b[0;31mImportError\u001b[0m: No module named kodex_nlp"
     ]
    }
   ],
   "source": [
    "from kodex_nlp import read_files, get_stemmer #user functions"
   ]
  },
  {
   "cell_type": "code",
   "execution_count": null,
   "metadata": {},
   "outputs": [],
   "source": []
  },
  {
   "cell_type": "markdown",
   "metadata": {},
   "source": [
    "# <span style=\"color:blue\">1</span>  Read and Stem .pdf Documents from Path"
   ]
  },
  {
   "cell_type": "code",
   "execution_count": 3,
   "metadata": {},
   "outputs": [],
   "source": [
    "stemmer = \"turkishstemmer\" # turkishstemmer, snowball, zemberek\n",
    "\n",
    "bozma = read_files(\"yargıtay_kararları/bozma/\", stemmer = stemmer)\n",
    "onama = read_files(\"yargıtay_kararları/onam-detay/\", stemmer = stemmer)\n",
    "kismen = read_files(\"yargıtay_kararları/kısmen/\", stemmer = stemmer)\n",
    "\n",
    "all_docs = bozma + onama + kismen"
   ]
  },
  {
   "cell_type": "markdown",
   "metadata": {},
   "source": [
    "### Ground Truth Values:"
   ]
  },
  {
   "cell_type": "code",
   "execution_count": 4,
   "metadata": {},
   "outputs": [],
   "source": [
    "Y = np.concatenate((\n",
    "    np.ones(len(bozma))*0,\n",
    "    np.ones(len(onama))*1,\n",
    "    np.ones(len(kismen))*2))"
   ]
  },
  {
   "cell_type": "markdown",
   "metadata": {},
   "source": [
    "# <span style=\"color:blue\">2</span> TF $\\times$ IDF"
   ]
  },
  {
   "cell_type": "markdown",
   "metadata": {},
   "source": [
    "## Split Dataset"
   ]
  },
  {
   "cell_type": "code",
   "execution_count": 5,
   "metadata": {},
   "outputs": [],
   "source": [
    "X_train, X_val, y_train, y_val = train_test_split(\n",
    "    all_docs, Y, test_size=0.3, random_state=108)\n",
    "\n",
    "n_train = len(y_train)\n",
    "n_val = len(y_val)"
   ]
  },
  {
   "cell_type": "markdown",
   "metadata": {},
   "source": [
    "## Term Freq Matrices"
   ]
  },
  {
   "cell_type": "code",
   "execution_count": 6,
   "metadata": {},
   "outputs": [],
   "source": [
    "cnt_vec = CountVectorizer()\n",
    "\n",
    "transformed_data = cnt_vec.fit_transform(X_train+X_val)\n",
    "TF = transformed_data.toarray()\n",
    "TF_train = TF[:n_train,:] # Term freq for train\n",
    "TF_val = TF[n_train:,:] # Term freq for validation"
   ]
  },
  {
   "cell_type": "markdown",
   "metadata": {},
   "source": [
    "## IDF"
   ]
  },
  {
   "cell_type": "code",
   "execution_count": 7,
   "metadata": {},
   "outputs": [],
   "source": [
    "def idf(word_freqs):\n",
    "    N = len(word_freqs)\n",
    "    n = np.sum(word_freqs > 1/5000)\n",
    "    return np.log10(N/(n+1))"
   ]
  },
  {
   "cell_type": "code",
   "execution_count": 8,
   "metadata": {},
   "outputs": [],
   "source": [
    "IDF_train = np.apply_along_axis(idf, 0, TF_train)\n",
    "TF_IDF_train = np.multiply(TF_train, IDF_train)"
   ]
  },
  {
   "cell_type": "code",
   "execution_count": 9,
   "metadata": {},
   "outputs": [],
   "source": [
    "TF_IDF_val = np.zeros((TF_val.shape))"
   ]
  },
  {
   "cell_type": "code",
   "execution_count": 10,
   "metadata": {},
   "outputs": [],
   "source": [
    "def extract_tfidf_val(current_TF, TF = TF_IDF_train):\n",
    "    TF = np.row_stack((TF, current_TF)  ) \n",
    "    IDF = np.apply_along_axis(idf, 0, TF)\n",
    "    return np.multiply(current_TF, IDF)"
   ]
  },
  {
   "cell_type": "code",
   "execution_count": 11,
   "metadata": {},
   "outputs": [],
   "source": [
    "TF_IDF_val = np.apply_along_axis(extract_tfidf_val, 1, TF_val)"
   ]
  },
  {
   "cell_type": "code",
   "execution_count": 12,
   "metadata": {},
   "outputs": [
    {
     "data": {
      "text/plain": [
       "(129, 2372)"
      ]
     },
     "execution_count": 12,
     "metadata": {},
     "output_type": "execute_result"
    }
   ],
   "source": [
    "TF_IDF_val.shape"
   ]
  },
  {
   "cell_type": "markdown",
   "metadata": {},
   "source": [
    "# <span style=\"color:blue\">3</span> SVD"
   ]
  },
  {
   "cell_type": "code",
   "execution_count": 13,
   "metadata": {},
   "outputs": [],
   "source": [
    "m = 75\n",
    "svd = TruncatedSVD(n_components=m, random_state=1)\n",
    "lsa = make_pipeline(svd, Normalizer(copy=False))\n",
    "X_train_lsa = lsa.fit_transform(TF_IDF_train)"
   ]
  },
  {
   "cell_type": "code",
   "execution_count": 14,
   "metadata": {},
   "outputs": [],
   "source": [
    "X_val_lsa = lsa.transform(TF_IDF_val)"
   ]
  },
  {
   "cell_type": "markdown",
   "metadata": {},
   "source": [
    "# <span style=\"color:blue\">4</span> Classification: kNN"
   ]
  },
  {
   "cell_type": "code",
   "execution_count": 15,
   "metadata": {},
   "outputs": [
    {
     "data": {
      "text/plain": [
       "KNeighborsClassifier(algorithm='brute', leaf_size=30, metric='cosine',\n",
       "           metric_params=None, n_jobs=1, n_neighbors=5, p=2,\n",
       "           weights='distance')"
      ]
     },
     "execution_count": 15,
     "metadata": {},
     "output_type": "execute_result"
    }
   ],
   "source": [
    "knn_lsa = KNeighborsClassifier(n_neighbors=5, algorithm='brute', metric='cosine', weights='distance')\n",
    "knn_lsa.fit(X_train_lsa, y_train)"
   ]
  },
  {
   "cell_type": "code",
   "execution_count": 16,
   "metadata": {},
   "outputs": [],
   "source": [
    "p = knn_lsa.predict(X_val_lsa)"
   ]
  },
  {
   "cell_type": "code",
   "execution_count": 17,
   "metadata": {},
   "outputs": [
    {
     "name": "stdout",
     "output_type": "stream",
     "text": [
      "Bozma:(30 / 37) correct - 81.08%\n",
      "Onama:(52 / 55) correct - 94.55%\n",
      "Kısmen:(34 / 37) correct - 91.89%\n",
      "Overall:(116 / 129) correct - 89.92%\n"
     ]
    }
   ],
   "source": [
    "bozma = 0\n",
    "onama = 0\n",
    "kismen = 0\n",
    "\n",
    "for i in range(0,len(p)):\n",
    "    if p[i] == y_val[i]:\n",
    "        \n",
    "        if p[i] == 0:\n",
    "            bozma += 1\n",
    "        if p[i] == 1:\n",
    "            onama += 1\n",
    "        if p[i] == 2:\n",
    "            kismen += 1\n",
    "\n",
    "numRight = bozma+onama+kismen\n",
    "\n",
    "print(\"Bozma:(%d / %d) correct - %.2f%%\" % (bozma, np.sum(y_val==0), float(bozma) / float(np.sum(y_val==0)) * 100.0))\n",
    "print(\"Onama:(%d / %d) correct - %.2f%%\" % (onama, np.sum(y_val==1), float(onama) / float(np.sum(y_val==1)) * 100.0))\n",
    "print(\"Kısmen:(%d / %d) correct - %.2f%%\" % (kismen, np.sum(y_val==2), float(kismen) / float(np.sum(y_val==2)) * 100.0))\n",
    "print(\"Overall:(%d / %d) correct - %.2f%%\" % (numRight, len(y_val), float(numRight) / float(len(y_val)) * 100.0))"
   ]
  },
  {
   "cell_type": "markdown",
   "metadata": {},
   "source": [
    "## Visualization"
   ]
  },
  {
   "cell_type": "code",
   "execution_count": 18,
   "metadata": {},
   "outputs": [],
   "source": [
    "colo = y_train.astype(\"str\")\n",
    "colo[colo == '0.0'] = 'b'\n",
    "colo[colo == '1.0'] = 'g'\n",
    "colo[colo == '2.0'] = 'r'"
   ]
  },
  {
   "cell_type": "code",
   "execution_count": 19,
   "metadata": {},
   "outputs": [
    {
     "name": "stdout",
     "output_type": "stream",
     "text": [
      "printing only first 2 of 75 components\n"
     ]
    },
    {
     "data": {
      "image/png": "[encoded data removed]",
      "text/plain": [
       "<Figure size 432x288 with 1 Axes>"
      ]
     },
     "metadata": {},
     "output_type": "display_data"
    },
    {
     "name": "stdout",
     "output_type": "stream",
     "text": [
      "blue = bozma\n",
      "green = onama\n",
      "red = kismen\n"
     ]
    }
   ],
   "source": [
    "print(\"printing only first 2 of \"+str(m)+\" components\")\n",
    "plt.scatter(X_train_lsa[:, 0], X_train_lsa[:, 1], c = colo, cmap=None)\n",
    "plt.show()\n",
    "print(\"blue = bozma\\ngreen = onama\\nred = kismen\")"
   ]
  },
  {
   "cell_type": "markdown",
   "metadata": {},
   "source": [
    "# <span style=\"color:blue\">5</span> Classification: Neural Network"
   ]
  },
  {
   "cell_type": "code",
   "execution_count": 20,
   "metadata": {},
   "outputs": [
    {
     "name": "stderr",
     "output_type": "stream",
     "text": [
      "/home/enes/Documents/DLwK/env_DLwK/lib/python3.5/site-packages/h5py/__init__.py:34: FutureWarning: Conversion of the second argument of issubdtype from `float` to `np.floating` is deprecated. In future, it will be treated as `np.float64 == np.dtype(float).type`.\n",
      "  from ._conv import register_converters as _register_converters\n",
      "Using TensorFlow backend.\n"
     ]
    }
   ],
   "source": [
    "from keras.models import Sequential\n",
    "\n",
    "from keras.layers.core import Dense, Dropout, Activation, Flatten\n",
    "from keras.layers.convolutional import Conv2D\n",
    "from keras.layers.pooling import MaxPooling2D\n",
    "from keras.layers.normalization import BatchNormalization\n",
    "\n",
    "from keras.utils import np_utils\n",
    "\n",
    "from keras.optimizers import adam\n",
    "\n",
    "from keras import backend as K\n",
    "from keras.preprocessing.image import ImageDataGenerator\n",
    "from keras.callbacks import EarlyStopping, History\n",
    "\n",
    "import keras"
   ]
  },
  {
   "cell_type": "code",
   "execution_count": 21,
   "metadata": {},
   "outputs": [],
   "source": [
    "m = 200\n",
    "svd = TruncatedSVD(n_components=m, random_state=1)\n",
    "lsa = make_pipeline(svd, Normalizer(copy=False))\n",
    "NN_X_train = lsa.fit_transform(TF_IDF_train)\n",
    "NN_X_val = lsa.transform(TF_IDF_val)"
   ]
  },
  {
   "cell_type": "code",
   "execution_count": 22,
   "metadata": {},
   "outputs": [],
   "source": [
    "num_classes = 3\n",
    "NN_y_train = np_utils.to_categorical(y_train, num_classes)\n",
    "NN_y_val = np_utils.to_categorical(y_val, num_classes)"
   ]
  },
  {
   "cell_type": "code",
   "execution_count": 23,
   "metadata": {},
   "outputs": [],
   "source": [
    "def model_X():\n",
    "    #modeling\n",
    "    model = Sequential()\n",
    "\n",
    "    model.add(Dense(128, input_shape = NN_X_train.shape[1:]))\n",
    "    model.add(BatchNormalization())\n",
    "    model.add(Activation('relu'))\n",
    "    model.add(Dropout(0.5))\n",
    "    \n",
    "    model.add(Dense(64))\n",
    "    model.add(BatchNormalization())\n",
    "    model.add(Activation('relu'))\n",
    "    model.add(Dropout(0.5))\n",
    "        \n",
    "    model.add(Dense(32))\n",
    "    model.add(BatchNormalization())\n",
    "    model.add(Activation('relu'))\n",
    "    model.add(Dropout(0.5))\n",
    "    \n",
    "    model.add(Dense(num_classes))\n",
    "    model.add(Activation('softmax'))\n",
    "\n",
    "    opt = keras.optimizers.adam()\n",
    "\n",
    "    model.compile(loss='categorical_crossentropy',\n",
    "                  optimizer=opt,\n",
    "                  metrics=['accuracy'])\n",
    "\n",
    "   \n",
    "    return(model)"
   ]
  },
  {
   "cell_type": "code",
   "execution_count": 24,
   "metadata": {},
   "outputs": [
    {
     "name": "stdout",
     "output_type": "stream",
     "text": [
      "_________________________________________________________________\n",
      "Layer (type)                 Output Shape              Param #   \n",
      "=================================================================\n",
      "dense_1 (Dense)              (None, 128)               25728     \n",
      "_________________________________________________________________\n",
      "batch_normalization_1 (Batch (None, 128)               512       \n",
      "_________________________________________________________________\n",
      "activation_1 (Activation)    (None, 128)               0         \n",
      "_________________________________________________________________\n",
      "dropout_1 (Dropout)          (None, 128)               0         \n",
      "_________________________________________________________________\n",
      "dense_2 (Dense)              (None, 64)                8256      \n",
      "_________________________________________________________________\n",
      "batch_normalization_2 (Batch (None, 64)                256       \n",
      "_________________________________________________________________\n",
      "activation_2 (Activation)    (None, 64)                0         \n",
      "_________________________________________________________________\n",
      "dropout_2 (Dropout)          (None, 64)                0         \n",
      "_________________________________________________________________\n",
      "dense_3 (Dense)              (None, 32)                2080      \n",
      "_________________________________________________________________\n",
      "batch_normalization_3 (Batch (None, 32)                128       \n",
      "_________________________________________________________________\n",
      "activation_3 (Activation)    (None, 32)                0         \n",
      "_________________________________________________________________\n",
      "dropout_3 (Dropout)          (None, 32)                0         \n",
      "_________________________________________________________________\n",
      "dense_4 (Dense)              (None, 3)                 99        \n",
      "_________________________________________________________________\n",
      "activation_4 (Activation)    (None, 3)                 0         \n",
      "=================================================================\n",
      "Total params: 37,059\n",
      "Trainable params: 36,611\n",
      "Non-trainable params: 448\n",
      "_________________________________________________________________\n"
     ]
    }
   ],
   "source": [
    "model=model_X()\n",
    "model.summary()"
   ]
  },
  {
   "cell_type": "code",
   "execution_count": 25,
   "metadata": {},
   "outputs": [
    {
     "data": {
      "text/plain": [
       "(300,)"
      ]
     },
     "execution_count": 25,
     "metadata": {},
     "output_type": "execute_result"
    }
   ],
   "source": [
    "y_train.shape"
   ]
  },
  {
   "cell_type": "code",
   "execution_count": 26,
   "metadata": {
    "scrolled": true
   },
   "outputs": [
    {
     "name": "stdout",
     "output_type": "stream",
     "text": [
      "Train on 300 samples, validate on 129 samples\n",
      "Epoch 1/200\n",
      "300/300 [==============================] - 0s 1ms/step - loss: 1.4214 - acc: 0.3867 - val_loss: 1.0682 - val_acc: 0.5039\n",
      "Epoch 2/200\n",
      "300/300 [==============================] - 0s 273us/step - loss: 1.2387 - acc: 0.4300 - val_loss: 1.0465 - val_acc: 0.4419\n",
      "Epoch 3/200\n",
      "300/300 [==============================] - 0s 289us/step - loss: 1.1539 - acc: 0.4467 - val_loss: 1.0281 - val_acc: 0.4806\n",
      "Epoch 4/200\n",
      "300/300 [==============================] - 0s 372us/step - loss: 0.9594 - acc: 0.5500 - val_loss: 1.0056 - val_acc: 0.5736\n",
      "Epoch 5/200\n",
      "300/300 [==============================] - 0s 364us/step - loss: 0.9605 - acc: 0.5400 - val_loss: 0.9826 - val_acc: 0.6279\n",
      "Epoch 6/200\n",
      "300/300 [==============================] - 0s 310us/step - loss: 0.8342 - acc: 0.6367 - val_loss: 0.9567 - val_acc: 0.6434\n",
      "Epoch 7/200\n",
      "300/300 [==============================] - 0s 341us/step - loss: 0.8151 - acc: 0.6200 - val_loss: 0.9297 - val_acc: 0.7287\n",
      "Epoch 8/200\n",
      "300/300 [==============================] - 0s 297us/step - loss: 0.8111 - acc: 0.6400 - val_loss: 0.8958 - val_acc: 0.8062\n",
      "Epoch 9/200\n",
      "300/300 [==============================] - 0s 285us/step - loss: 0.7330 - acc: 0.6900 - val_loss: 0.8596 - val_acc: 0.8450\n",
      "Epoch 10/200\n",
      "300/300 [==============================] - 0s 288us/step - loss: 0.6945 - acc: 0.7200 - val_loss: 0.8158 - val_acc: 0.8760\n",
      "Epoch 11/200\n",
      "300/300 [==============================] - 0s 299us/step - loss: 0.6013 - acc: 0.7433 - val_loss: 0.7656 - val_acc: 0.9070\n",
      "Epoch 12/200\n",
      "300/300 [==============================] - 0s 295us/step - loss: 0.6444 - acc: 0.7367 - val_loss: 0.7162 - val_acc: 0.9147\n",
      "Epoch 13/200\n",
      "300/300 [==============================] - 0s 322us/step - loss: 0.6188 - acc: 0.7500 - val_loss: 0.6649 - val_acc: 0.9302\n",
      "Epoch 14/200\n",
      "300/300 [==============================] - 0s 282us/step - loss: 0.5608 - acc: 0.7833 - val_loss: 0.6157 - val_acc: 0.9380\n",
      "Epoch 15/200\n",
      "300/300 [==============================] - 0s 271us/step - loss: 0.4663 - acc: 0.8267 - val_loss: 0.5610 - val_acc: 0.9457\n",
      "Epoch 16/200\n",
      "300/300 [==============================] - 0s 293us/step - loss: 0.4113 - acc: 0.8867 - val_loss: 0.5120 - val_acc: 0.9457\n",
      "Epoch 17/200\n",
      "300/300 [==============================] - 0s 299us/step - loss: 0.4327 - acc: 0.8267 - val_loss: 0.4608 - val_acc: 0.9380\n",
      "Epoch 18/200\n",
      "300/300 [==============================] - 0s 274us/step - loss: 0.4283 - acc: 0.8633 - val_loss: 0.4144 - val_acc: 0.9380\n",
      "Epoch 19/200\n",
      "300/300 [==============================] - 0s 292us/step - loss: 0.4190 - acc: 0.8400 - val_loss: 0.3694 - val_acc: 0.9380\n",
      "Epoch 20/200\n",
      "300/300 [==============================] - 0s 269us/step - loss: 0.3888 - acc: 0.8767 - val_loss: 0.3293 - val_acc: 0.9457\n",
      "Epoch 21/200\n",
      "300/300 [==============================] - 0s 286us/step - loss: 0.3769 - acc: 0.8767 - val_loss: 0.2944 - val_acc: 0.9535\n",
      "Epoch 22/200\n",
      "300/300 [==============================] - 0s 290us/step - loss: 0.3201 - acc: 0.8967 - val_loss: 0.2629 - val_acc: 0.9535\n",
      "Epoch 23/200\n",
      "300/300 [==============================] - 0s 284us/step - loss: 0.3367 - acc: 0.9000 - val_loss: 0.2368 - val_acc: 0.9457\n",
      "Epoch 24/200\n",
      "300/300 [==============================] - 0s 293us/step - loss: 0.3254 - acc: 0.9133 - val_loss: 0.2174 - val_acc: 0.9380\n",
      "Epoch 25/200\n",
      "300/300 [==============================] - 0s 294us/step - loss: 0.2647 - acc: 0.9067 - val_loss: 0.2061 - val_acc: 0.9535\n",
      "Epoch 26/200\n",
      "300/300 [==============================] - 0s 294us/step - loss: 0.2481 - acc: 0.9167 - val_loss: 0.2031 - val_acc: 0.9535\n",
      "Epoch 27/200\n",
      "300/300 [==============================] - 0s 280us/step - loss: 0.2461 - acc: 0.9100 - val_loss: 0.1966 - val_acc: 0.9535\n",
      "Epoch 28/200\n",
      "300/300 [==============================] - 0s 288us/step - loss: 0.2234 - acc: 0.9333 - val_loss: 0.1847 - val_acc: 0.9457\n",
      "Epoch 29/200\n",
      "300/300 [==============================] - 0s 371us/step - loss: 0.2159 - acc: 0.9367 - val_loss: 0.1794 - val_acc: 0.9457\n",
      "Epoch 30/200\n",
      "300/300 [==============================] - 0s 351us/step - loss: 0.2240 - acc: 0.9433 - val_loss: 0.1758 - val_acc: 0.9457\n",
      "Epoch 31/200\n",
      "300/300 [==============================] - 0s 328us/step - loss: 0.2494 - acc: 0.9233 - val_loss: 0.1706 - val_acc: 0.9457\n",
      "Epoch 32/200\n",
      "300/300 [==============================] - 0s 302us/step - loss: 0.1918 - acc: 0.9333 - val_loss: 0.1661 - val_acc: 0.9457\n",
      "Epoch 33/200\n",
      "300/300 [==============================] - 0s 302us/step - loss: 0.2227 - acc: 0.9500 - val_loss: 0.1653 - val_acc: 0.9457\n",
      "Epoch 34/200\n",
      "300/300 [==============================] - 0s 295us/step - loss: 0.1752 - acc: 0.9733 - val_loss: 0.1643 - val_acc: 0.9380\n",
      "Epoch 35/200\n",
      "300/300 [==============================] - 0s 285us/step - loss: 0.1643 - acc: 0.9633 - val_loss: 0.1647 - val_acc: 0.9380\n",
      "Epoch 36/200\n",
      "300/300 [==============================] - 0s 277us/step - loss: 0.1554 - acc: 0.9700 - val_loss: 0.1684 - val_acc: 0.9380\n",
      "Epoch 37/200\n",
      "300/300 [==============================] - 0s 259us/step - loss: 0.1399 - acc: 0.9667 - val_loss: 0.1714 - val_acc: 0.9380\n",
      "Epoch 38/200\n",
      "300/300 [==============================] - 0s 290us/step - loss: 0.1770 - acc: 0.9567 - val_loss: 0.1765 - val_acc: 0.9302\n",
      "Epoch 39/200\n",
      "300/300 [==============================] - 0s 307us/step - loss: 0.1510 - acc: 0.9667 - val_loss: 0.1795 - val_acc: 0.9302\n",
      "Epoch 40/200\n",
      "300/300 [==============================] - 0s 291us/step - loss: 0.1226 - acc: 0.9800 - val_loss: 0.1789 - val_acc: 0.9302\n",
      "Epoch 41/200\n",
      "300/300 [==============================] - 0s 288us/step - loss: 0.1632 - acc: 0.9633 - val_loss: 0.1710 - val_acc: 0.9302\n",
      "Epoch 42/200\n",
      "300/300 [==============================] - 0s 307us/step - loss: 0.1363 - acc: 0.9600 - val_loss: 0.1660 - val_acc: 0.9302\n",
      "Epoch 43/200\n",
      "300/300 [==============================] - 0s 322us/step - loss: 0.1632 - acc: 0.9567 - val_loss: 0.1640 - val_acc: 0.9302\n",
      "Epoch 44/200\n",
      "300/300 [==============================] - 0s 333us/step - loss: 0.1222 - acc: 0.9700 - val_loss: 0.1679 - val_acc: 0.9302\n",
      "Epoch 45/200\n",
      "300/300 [==============================] - 0s 340us/step - loss: 0.1129 - acc: 0.9767 - val_loss: 0.1730 - val_acc: 0.9302\n",
      "Epoch 46/200\n",
      "300/300 [==============================] - 0s 387us/step - loss: 0.1372 - acc: 0.9700 - val_loss: 0.1765 - val_acc: 0.9302\n",
      "Epoch 47/200\n",
      "300/300 [==============================] - 0s 338us/step - loss: 0.1389 - acc: 0.9600 - val_loss: 0.1809 - val_acc: 0.9302\n",
      "Epoch 48/200\n",
      "300/300 [==============================] - 0s 323us/step - loss: 0.1485 - acc: 0.9567 - val_loss: 0.1771 - val_acc: 0.9302\n",
      "Epoch 49/200\n",
      "300/300 [==============================] - 0s 300us/step - loss: 0.1382 - acc: 0.9700 - val_loss: 0.1715 - val_acc: 0.9302\n",
      "Epoch 50/200\n",
      "300/300 [==============================] - 0s 307us/step - loss: 0.1059 - acc: 0.9667 - val_loss: 0.1759 - val_acc: 0.9302\n",
      "Epoch 51/200\n",
      "300/300 [==============================] - 0s 331us/step - loss: 0.1481 - acc: 0.9500 - val_loss: 0.1805 - val_acc: 0.9380\n",
      "Epoch 52/200\n",
      "300/300 [==============================] - 0s 352us/step - loss: 0.1522 - acc: 0.9700 - val_loss: 0.1719 - val_acc: 0.9380\n",
      "Epoch 53/200\n",
      "300/300 [==============================] - 0s 393us/step - loss: 0.1014 - acc: 0.9700 - val_loss: 0.1725 - val_acc: 0.9380\n",
      "Epoch 54/200\n",
      "300/300 [==============================] - 0s 360us/step - loss: 0.0956 - acc: 0.9833 - val_loss: 0.1755 - val_acc: 0.9302\n",
      "Epoch 55/200\n",
      "300/300 [==============================] - 0s 394us/step - loss: 0.1025 - acc: 0.9800 - val_loss: 0.1827 - val_acc: 0.9302\n",
      "Epoch 56/200\n",
      "300/300 [==============================] - 0s 392us/step - loss: 0.1010 - acc: 0.9767 - val_loss: 0.1866 - val_acc: 0.9302\n",
      "Epoch 57/200\n",
      "300/300 [==============================] - 0s 356us/step - loss: 0.0892 - acc: 0.9733 - val_loss: 0.1881 - val_acc: 0.9302\n",
      "Epoch 58/200\n",
      "300/300 [==============================] - 0s 385us/step - loss: 0.1274 - acc: 0.9533 - val_loss: 0.1827 - val_acc: 0.9302\n",
      "Epoch 59/200\n",
      "300/300 [==============================] - 0s 320us/step - loss: 0.0861 - acc: 0.9867 - val_loss: 0.1790 - val_acc: 0.9302\n",
      "Epoch 60/200\n",
      "300/300 [==============================] - 0s 281us/step - loss: 0.0790 - acc: 0.9867 - val_loss: 0.1811 - val_acc: 0.9302\n"
     ]
    },
    {
     "name": "stdout",
     "output_type": "stream",
     "text": [
      "Epoch 61/200\n",
      "300/300 [==============================] - 0s 291us/step - loss: 0.1075 - acc: 0.9633 - val_loss: 0.1851 - val_acc: 0.9302\n",
      "Epoch 62/200\n",
      "300/300 [==============================] - 0s 301us/step - loss: 0.1138 - acc: 0.9700 - val_loss: 0.1844 - val_acc: 0.9302\n",
      "Epoch 63/200\n",
      "300/300 [==============================] - 0s 290us/step - loss: 0.1559 - acc: 0.9500 - val_loss: 0.1972 - val_acc: 0.9457\n",
      "Epoch 64/200\n",
      "300/300 [==============================] - 0s 302us/step - loss: 0.0858 - acc: 0.9733 - val_loss: 0.1991 - val_acc: 0.9457\n",
      "Epoch 65/200\n",
      "300/300 [==============================] - 0s 282us/step - loss: 0.0857 - acc: 0.9900 - val_loss: 0.1985 - val_acc: 0.9457\n",
      "Epoch 66/200\n",
      "300/300 [==============================] - 0s 295us/step - loss: 0.0766 - acc: 0.9767 - val_loss: 0.1924 - val_acc: 0.9457\n",
      "Epoch 67/200\n",
      "300/300 [==============================] - 0s 316us/step - loss: 0.0461 - acc: 0.9967 - val_loss: 0.1905 - val_acc: 0.9457\n",
      "Epoch 68/200\n",
      "300/300 [==============================] - 0s 285us/step - loss: 0.0715 - acc: 0.9800 - val_loss: 0.1971 - val_acc: 0.9380\n",
      "Epoch 69/200\n",
      "300/300 [==============================] - 0s 317us/step - loss: 0.1137 - acc: 0.9767 - val_loss: 0.1851 - val_acc: 0.9380\n",
      "Epoch 70/200\n",
      "300/300 [==============================] - 0s 280us/step - loss: 0.0417 - acc: 0.9933 - val_loss: 0.1847 - val_acc: 0.9380\n",
      "Epoch 71/200\n",
      "300/300 [==============================] - 0s 311us/step - loss: 0.0393 - acc: 1.0000 - val_loss: 0.1899 - val_acc: 0.9457\n",
      "Epoch 72/200\n",
      "300/300 [==============================] - 0s 285us/step - loss: 0.1020 - acc: 0.9600 - val_loss: 0.1957 - val_acc: 0.9380\n",
      "Epoch 73/200\n",
      "300/300 [==============================] - 0s 292us/step - loss: 0.0390 - acc: 0.9933 - val_loss: 0.1998 - val_acc: 0.9380\n",
      "Epoch 74/200\n",
      "300/300 [==============================] - 0s 389us/step - loss: 0.0918 - acc: 0.9833 - val_loss: 0.1851 - val_acc: 0.9457\n",
      "Epoch 75/200\n",
      "300/300 [==============================] - 0s 422us/step - loss: 0.0264 - acc: 0.9967 - val_loss: 0.1885 - val_acc: 0.9457\n",
      "Epoch 76/200\n",
      "300/300 [==============================] - 0s 657us/step - loss: 0.1009 - acc: 0.9833 - val_loss: 0.1898 - val_acc: 0.9535\n",
      "Epoch 77/200\n",
      "300/300 [==============================] - 0s 389us/step - loss: 0.0655 - acc: 0.9767 - val_loss: 0.2112 - val_acc: 0.9380\n",
      "Epoch 78/200\n",
      "300/300 [==============================] - 0s 336us/step - loss: 0.1219 - acc: 0.9767 - val_loss: 0.2221 - val_acc: 0.9380\n",
      "Epoch 79/200\n",
      "300/300 [==============================] - 0s 288us/step - loss: 0.0543 - acc: 0.9900 - val_loss: 0.2256 - val_acc: 0.9380\n",
      "Epoch 80/200\n",
      "300/300 [==============================] - 0s 317us/step - loss: 0.0797 - acc: 0.9833 - val_loss: 0.2243 - val_acc: 0.9380\n",
      "Epoch 81/200\n",
      "300/300 [==============================] - 0s 334us/step - loss: 0.0641 - acc: 0.9900 - val_loss: 0.2159 - val_acc: 0.9380\n",
      "Epoch 82/200\n",
      "300/300 [==============================] - 0s 343us/step - loss: 0.0500 - acc: 0.9933 - val_loss: 0.2037 - val_acc: 0.9380\n",
      "Epoch 83/200\n",
      "300/300 [==============================] - 0s 319us/step - loss: 0.0424 - acc: 0.9867 - val_loss: 0.2027 - val_acc: 0.9380\n",
      "Epoch 84/200\n",
      "300/300 [==============================] - 0s 382us/step - loss: 0.1402 - acc: 0.9600 - val_loss: 0.1985 - val_acc: 0.9380\n",
      "Epoch 85/200\n",
      "300/300 [==============================] - 0s 309us/step - loss: 0.0663 - acc: 0.9933 - val_loss: 0.2011 - val_acc: 0.9457\n",
      "Epoch 86/200\n",
      "300/300 [==============================] - 0s 377us/step - loss: 0.0705 - acc: 0.9767 - val_loss: 0.2058 - val_acc: 0.9457\n",
      "Epoch 87/200\n",
      "300/300 [==============================] - 0s 397us/step - loss: 0.0731 - acc: 0.9800 - val_loss: 0.2069 - val_acc: 0.9457\n",
      "Epoch 88/200\n",
      "300/300 [==============================] - 0s 357us/step - loss: 0.0533 - acc: 0.9933 - val_loss: 0.2127 - val_acc: 0.9457\n",
      "Epoch 89/200\n",
      "300/300 [==============================] - 0s 336us/step - loss: 0.0664 - acc: 0.9833 - val_loss: 0.2104 - val_acc: 0.9535\n",
      "Epoch 90/200\n",
      "300/300 [==============================] - 0s 351us/step - loss: 0.0323 - acc: 0.9967 - val_loss: 0.2128 - val_acc: 0.9457\n",
      "Epoch 91/200\n",
      "300/300 [==============================] - 0s 331us/step - loss: 0.0540 - acc: 0.9900 - val_loss: 0.2120 - val_acc: 0.9457\n",
      "Epoch 92/200\n",
      "300/300 [==============================] - 0s 276us/step - loss: 0.0750 - acc: 0.9833 - val_loss: 0.2163 - val_acc: 0.9380\n",
      "Epoch 93/200\n",
      "300/300 [==============================] - 0s 282us/step - loss: 0.0270 - acc: 0.9967 - val_loss: 0.2213 - val_acc: 0.9380\n",
      "Epoch 94/200\n",
      "300/300 [==============================] - 0s 329us/step - loss: 0.0667 - acc: 0.9833 - val_loss: 0.2264 - val_acc: 0.9380\n",
      "Epoch 95/200\n",
      "300/300 [==============================] - 0s 344us/step - loss: 0.1175 - acc: 0.9800 - val_loss: 0.2128 - val_acc: 0.9457\n",
      "Epoch 96/200\n",
      "300/300 [==============================] - 0s 324us/step - loss: 0.0449 - acc: 0.9867 - val_loss: 0.2119 - val_acc: 0.9457\n",
      "Epoch 97/200\n",
      "300/300 [==============================] - 0s 407us/step - loss: 0.0463 - acc: 0.9900 - val_loss: 0.2122 - val_acc: 0.9457\n",
      "Epoch 98/200\n",
      "300/300 [==============================] - 0s 393us/step - loss: 0.0506 - acc: 0.9833 - val_loss: 0.2063 - val_acc: 0.9457\n",
      "Epoch 99/200\n",
      "300/300 [==============================] - 0s 381us/step - loss: 0.0422 - acc: 0.9900 - val_loss: 0.2107 - val_acc: 0.9457\n",
      "Epoch 100/200\n",
      "300/300 [==============================] - 0s 372us/step - loss: 0.0746 - acc: 0.9900 - val_loss: 0.2223 - val_acc: 0.9457\n",
      "Epoch 101/200\n",
      "300/300 [==============================] - 0s 355us/step - loss: 0.0430 - acc: 0.9867 - val_loss: 0.2291 - val_acc: 0.9457\n",
      "Epoch 102/200\n",
      "300/300 [==============================] - 0s 277us/step - loss: 0.0526 - acc: 0.9833 - val_loss: 0.2346 - val_acc: 0.9457\n",
      "Epoch 103/200\n",
      "300/300 [==============================] - 0s 287us/step - loss: 0.0315 - acc: 0.9933 - val_loss: 0.2391 - val_acc: 0.9457\n",
      "Epoch 104/200\n",
      "300/300 [==============================] - 0s 309us/step - loss: 0.0628 - acc: 0.9800 - val_loss: 0.2399 - val_acc: 0.9457\n",
      "Epoch 105/200\n",
      "300/300 [==============================] - 0s 299us/step - loss: 0.0370 - acc: 0.9933 - val_loss: 0.2367 - val_acc: 0.9457\n",
      "Epoch 106/200\n",
      "300/300 [==============================] - 0s 298us/step - loss: 0.0303 - acc: 0.9967 - val_loss: 0.2363 - val_acc: 0.9457\n",
      "Epoch 107/200\n",
      "300/300 [==============================] - 0s 315us/step - loss: 0.0343 - acc: 0.9933 - val_loss: 0.2441 - val_acc: 0.9457\n",
      "Epoch 108/200\n",
      "300/300 [==============================] - 0s 391us/step - loss: 0.0358 - acc: 0.9933 - val_loss: 0.2441 - val_acc: 0.9457\n",
      "Epoch 109/200\n",
      "300/300 [==============================] - 0s 359us/step - loss: 0.0503 - acc: 0.9833 - val_loss: 0.2455 - val_acc: 0.9457\n",
      "Epoch 110/200\n",
      "300/300 [==============================] - 0s 324us/step - loss: 0.0197 - acc: 1.0000 - val_loss: 0.2367 - val_acc: 0.9457\n",
      "Epoch 111/200\n",
      "300/300 [==============================] - 0s 333us/step - loss: 0.0576 - acc: 0.9800 - val_loss: 0.2439 - val_acc: 0.9457\n",
      "Epoch 112/200\n",
      "300/300 [==============================] - 0s 288us/step - loss: 0.0402 - acc: 0.9900 - val_loss: 0.2502 - val_acc: 0.9380\n",
      "Epoch 113/200\n",
      "300/300 [==============================] - 0s 320us/step - loss: 0.0443 - acc: 0.9833 - val_loss: 0.2603 - val_acc: 0.9302\n",
      "Epoch 114/200\n",
      "300/300 [==============================] - 0s 346us/step - loss: 0.0662 - acc: 0.9867 - val_loss: 0.2523 - val_acc: 0.9302\n",
      "Epoch 115/200\n",
      "300/300 [==============================] - 0s 339us/step - loss: 0.0466 - acc: 0.9833 - val_loss: 0.2760 - val_acc: 0.9380\n",
      "Epoch 116/200\n",
      "300/300 [==============================] - 0s 324us/step - loss: 0.0700 - acc: 0.9867 - val_loss: 0.2434 - val_acc: 0.9380\n",
      "Epoch 117/200\n",
      "300/300 [==============================] - 0s 330us/step - loss: 0.0234 - acc: 0.9967 - val_loss: 0.2334 - val_acc: 0.9535\n",
      "Epoch 118/200\n",
      "300/300 [==============================] - 0s 298us/step - loss: 0.0250 - acc: 0.9933 - val_loss: 0.2356 - val_acc: 0.9457\n",
      "Epoch 119/200\n",
      "300/300 [==============================] - 0s 292us/step - loss: 0.0377 - acc: 0.9900 - val_loss: 0.2388 - val_acc: 0.9457\n",
      "Epoch 120/200\n",
      "300/300 [==============================] - 0s 409us/step - loss: 0.0965 - acc: 0.9800 - val_loss: 0.2474 - val_acc: 0.9457\n",
      "Epoch 121/200\n"
     ]
    },
    {
     "name": "stdout",
     "output_type": "stream",
     "text": [
      "300/300 [==============================] - 0s 352us/step - loss: 0.0510 - acc: 0.9900 - val_loss: 0.2495 - val_acc: 0.9380\n",
      "Epoch 122/200\n",
      "300/300 [==============================] - 0s 281us/step - loss: 0.0346 - acc: 0.9967 - val_loss: 0.2488 - val_acc: 0.9380\n",
      "Epoch 123/200\n",
      "300/300 [==============================] - 0s 286us/step - loss: 0.0470 - acc: 0.9900 - val_loss: 0.2568 - val_acc: 0.9457\n",
      "Epoch 124/200\n",
      "300/300 [==============================] - 0s 282us/step - loss: 0.0499 - acc: 0.9900 - val_loss: 0.2632 - val_acc: 0.9457\n",
      "Epoch 125/200\n",
      "300/300 [==============================] - 0s 286us/step - loss: 0.0549 - acc: 0.9933 - val_loss: 0.2524 - val_acc: 0.9380\n",
      "Epoch 126/200\n",
      "300/300 [==============================] - 0s 272us/step - loss: 0.0279 - acc: 0.9933 - val_loss: 0.2434 - val_acc: 0.9457\n",
      "Epoch 127/200\n",
      "300/300 [==============================] - 0s 283us/step - loss: 0.0217 - acc: 0.9933 - val_loss: 0.2478 - val_acc: 0.9457\n",
      "Epoch 128/200\n",
      "300/300 [==============================] - 0s 290us/step - loss: 0.0198 - acc: 0.9967 - val_loss: 0.2537 - val_acc: 0.9457\n",
      "Epoch 129/200\n",
      "300/300 [==============================] - 0s 291us/step - loss: 0.0559 - acc: 0.9900 - val_loss: 0.2506 - val_acc: 0.9457\n",
      "Epoch 130/200\n",
      "300/300 [==============================] - 0s 272us/step - loss: 0.0681 - acc: 0.9867 - val_loss: 0.2567 - val_acc: 0.9457\n",
      "Epoch 131/200\n",
      "300/300 [==============================] - 0s 277us/step - loss: 0.0373 - acc: 0.9833 - val_loss: 0.2564 - val_acc: 0.9457\n",
      "Epoch 132/200\n",
      "300/300 [==============================] - 0s 334us/step - loss: 0.1257 - acc: 0.9833 - val_loss: 0.2515 - val_acc: 0.9380\n",
      "Epoch 133/200\n",
      "300/300 [==============================] - 0s 428us/step - loss: 0.0491 - acc: 0.9867 - val_loss: 0.2401 - val_acc: 0.9380\n",
      "Epoch 134/200\n",
      "300/300 [==============================] - 0s 336us/step - loss: 0.0573 - acc: 0.9833 - val_loss: 0.2022 - val_acc: 0.9457\n",
      "Epoch 135/200\n",
      "300/300 [==============================] - 0s 278us/step - loss: 0.0105 - acc: 1.0000 - val_loss: 0.1877 - val_acc: 0.9457\n",
      "Epoch 136/200\n",
      "300/300 [==============================] - 0s 263us/step - loss: 0.0209 - acc: 0.9967 - val_loss: 0.1899 - val_acc: 0.9457\n",
      "Epoch 137/200\n",
      "300/300 [==============================] - 0s 319us/step - loss: 0.0519 - acc: 0.9800 - val_loss: 0.2027 - val_acc: 0.9457\n",
      "Epoch 138/200\n",
      "300/300 [==============================] - 0s 370us/step - loss: 0.0173 - acc: 1.0000 - val_loss: 0.2015 - val_acc: 0.9535\n",
      "Epoch 139/200\n",
      "300/300 [==============================] - 0s 331us/step - loss: 0.0226 - acc: 0.9933 - val_loss: 0.2011 - val_acc: 0.9457\n",
      "Epoch 140/200\n",
      "300/300 [==============================] - 0s 341us/step - loss: 0.0305 - acc: 0.9933 - val_loss: 0.1979 - val_acc: 0.9457\n",
      "Epoch 141/200\n",
      "300/300 [==============================] - 0s 290us/step - loss: 0.0784 - acc: 0.9867 - val_loss: 0.2067 - val_acc: 0.9457\n",
      "Epoch 142/200\n",
      "300/300 [==============================] - 0s 279us/step - loss: 0.0266 - acc: 0.9967 - val_loss: 0.2188 - val_acc: 0.9457\n",
      "Epoch 143/200\n",
      "300/300 [==============================] - 0s 284us/step - loss: 0.0261 - acc: 0.9933 - val_loss: 0.2229 - val_acc: 0.9457\n",
      "Epoch 144/200\n",
      "300/300 [==============================] - 0s 350us/step - loss: 0.0265 - acc: 0.9900 - val_loss: 0.2212 - val_acc: 0.9457\n",
      "Epoch 145/200\n",
      "300/300 [==============================] - 0s 623us/step - loss: 0.0133 - acc: 1.0000 - val_loss: 0.2214 - val_acc: 0.9457\n",
      "Epoch 146/200\n",
      "300/300 [==============================] - 0s 370us/step - loss: 0.0360 - acc: 0.9833 - val_loss: 0.2203 - val_acc: 0.9457\n",
      "Epoch 147/200\n",
      "300/300 [==============================] - 0s 329us/step - loss: 0.0367 - acc: 0.9867 - val_loss: 0.2185 - val_acc: 0.9457\n",
      "Epoch 148/200\n",
      "300/300 [==============================] - 0s 331us/step - loss: 0.0187 - acc: 1.0000 - val_loss: 0.1990 - val_acc: 0.9535\n",
      "Epoch 149/200\n",
      "300/300 [==============================] - 0s 285us/step - loss: 0.0126 - acc: 1.0000 - val_loss: 0.1958 - val_acc: 0.9612\n",
      "Epoch 150/200\n",
      "300/300 [==============================] - 0s 276us/step - loss: 0.0176 - acc: 0.9933 - val_loss: 0.1914 - val_acc: 0.9612\n",
      "Epoch 151/200\n",
      "300/300 [==============================] - 0s 309us/step - loss: 0.0951 - acc: 0.9833 - val_loss: 0.2181 - val_acc: 0.9457\n",
      "Epoch 152/200\n",
      "300/300 [==============================] - 0s 279us/step - loss: 0.0345 - acc: 0.9933 - val_loss: 0.2365 - val_acc: 0.9457\n",
      "Epoch 153/200\n",
      "300/300 [==============================] - 0s 286us/step - loss: 0.0175 - acc: 0.9967 - val_loss: 0.2427 - val_acc: 0.9457\n",
      "Epoch 154/200\n",
      "300/300 [==============================] - 0s 328us/step - loss: 0.0225 - acc: 1.0000 - val_loss: 0.2384 - val_acc: 0.9457\n",
      "Epoch 155/200\n",
      "300/300 [==============================] - 0s 347us/step - loss: 0.0219 - acc: 0.9933 - val_loss: 0.2351 - val_acc: 0.9457\n",
      "Epoch 156/200\n",
      "300/300 [==============================] - 0s 288us/step - loss: 0.0649 - acc: 0.9833 - val_loss: 0.2247 - val_acc: 0.9457\n",
      "Epoch 157/200\n",
      "300/300 [==============================] - 0s 331us/step - loss: 0.0268 - acc: 0.9900 - val_loss: 0.2218 - val_acc: 0.9535\n",
      "Epoch 158/200\n",
      "300/300 [==============================] - 0s 278us/step - loss: 0.0276 - acc: 0.9933 - val_loss: 0.2379 - val_acc: 0.9457\n",
      "Epoch 159/200\n",
      "300/300 [==============================] - 0s 304us/step - loss: 0.0090 - acc: 1.0000 - val_loss: 0.2444 - val_acc: 0.9457\n",
      "Epoch 160/200\n",
      "300/300 [==============================] - 0s 331us/step - loss: 0.0320 - acc: 0.9900 - val_loss: 0.2556 - val_acc: 0.9457\n",
      "Epoch 161/200\n",
      "300/300 [==============================] - 0s 281us/step - loss: 0.0235 - acc: 0.9867 - val_loss: 0.2629 - val_acc: 0.9457\n",
      "Epoch 162/200\n",
      "300/300 [==============================] - 0s 302us/step - loss: 0.0150 - acc: 0.9967 - val_loss: 0.2677 - val_acc: 0.9457\n",
      "Epoch 163/200\n",
      "300/300 [==============================] - 0s 327us/step - loss: 0.0345 - acc: 0.9933 - val_loss: 0.2751 - val_acc: 0.9457\n",
      "Epoch 164/200\n",
      "300/300 [==============================] - 0s 303us/step - loss: 0.0211 - acc: 0.9967 - val_loss: 0.2806 - val_acc: 0.9457\n",
      "Epoch 165/200\n",
      "300/300 [==============================] - 0s 328us/step - loss: 0.0238 - acc: 0.9933 - val_loss: 0.2748 - val_acc: 0.9457\n",
      "Epoch 166/200\n",
      "300/300 [==============================] - 0s 429us/step - loss: 0.0276 - acc: 0.9933 - val_loss: 0.2593 - val_acc: 0.9457\n",
      "Epoch 167/200\n",
      "300/300 [==============================] - 0s 420us/step - loss: 0.0144 - acc: 1.0000 - val_loss: 0.2541 - val_acc: 0.9457\n",
      "Epoch 168/200\n",
      "300/300 [==============================] - 0s 386us/step - loss: 0.0343 - acc: 0.9967 - val_loss: 0.2560 - val_acc: 0.9457\n",
      "Epoch 169/200\n",
      "300/300 [==============================] - 0s 292us/step - loss: 0.0203 - acc: 0.9967 - val_loss: 0.2611 - val_acc: 0.9457\n",
      "Epoch 170/200\n",
      "300/300 [==============================] - 0s 280us/step - loss: 0.0524 - acc: 0.9900 - val_loss: 0.2703 - val_acc: 0.9457\n",
      "Epoch 171/200\n",
      "300/300 [==============================] - 0s 273us/step - loss: 0.0212 - acc: 0.9933 - val_loss: 0.2723 - val_acc: 0.9457\n",
      "Epoch 172/200\n",
      "300/300 [==============================] - 0s 308us/step - loss: 0.0101 - acc: 1.0000 - val_loss: 0.2715 - val_acc: 0.9457\n",
      "Epoch 173/200\n",
      "300/300 [==============================] - 0s 300us/step - loss: 0.0321 - acc: 0.9900 - val_loss: 0.2744 - val_acc: 0.9457\n",
      "Epoch 174/200\n",
      "300/300 [==============================] - 0s 327us/step - loss: 0.0178 - acc: 0.9967 - val_loss: 0.2880 - val_acc: 0.9457\n",
      "Epoch 175/200\n",
      "300/300 [==============================] - 0s 264us/step - loss: 0.0223 - acc: 0.9967 - val_loss: 0.2903 - val_acc: 0.9457\n",
      "Epoch 176/200\n",
      "300/300 [==============================] - 0s 294us/step - loss: 0.0362 - acc: 0.9900 - val_loss: 0.3049 - val_acc: 0.9380\n",
      "Epoch 177/200\n",
      "300/300 [==============================] - 0s 275us/step - loss: 0.0269 - acc: 0.9933 - val_loss: 0.3027 - val_acc: 0.9380\n",
      "Epoch 178/200\n",
      "300/300 [==============================] - 0s 281us/step - loss: 0.0429 - acc: 0.9867 - val_loss: 0.3034 - val_acc: 0.9380\n",
      "Epoch 179/200\n",
      "300/300 [==============================] - 0s 272us/step - loss: 0.0084 - acc: 1.0000 - val_loss: 0.3067 - val_acc: 0.9302\n",
      "Epoch 180/200\n",
      "300/300 [==============================] - 0s 289us/step - loss: 0.0312 - acc: 0.9967 - val_loss: 0.3067 - val_acc: 0.9302\n"
     ]
    },
    {
     "name": "stdout",
     "output_type": "stream",
     "text": [
      "Epoch 181/200\n",
      "300/300 [==============================] - 0s 268us/step - loss: 0.0168 - acc: 0.9967 - val_loss: 0.3065 - val_acc: 0.9302\n",
      "Epoch 182/200\n",
      "300/300 [==============================] - 0s 276us/step - loss: 0.0062 - acc: 1.0000 - val_loss: 0.3094 - val_acc: 0.9380\n",
      "Epoch 183/200\n",
      "300/300 [==============================] - 0s 279us/step - loss: 0.0150 - acc: 0.9933 - val_loss: 0.3171 - val_acc: 0.9380\n",
      "Epoch 184/200\n",
      "300/300 [==============================] - 0s 275us/step - loss: 0.0172 - acc: 0.9967 - val_loss: 0.3195 - val_acc: 0.9380\n",
      "Epoch 185/200\n",
      "300/300 [==============================] - 0s 309us/step - loss: 0.0721 - acc: 0.9800 - val_loss: 0.3115 - val_acc: 0.9302\n",
      "Epoch 186/200\n",
      "300/300 [==============================] - 0s 343us/step - loss: 0.0198 - acc: 0.9900 - val_loss: 0.3055 - val_acc: 0.9302\n",
      "Epoch 187/200\n",
      "300/300 [==============================] - 0s 381us/step - loss: 0.0338 - acc: 0.9867 - val_loss: 0.3065 - val_acc: 0.9380\n",
      "Epoch 188/200\n",
      "300/300 [==============================] - 0s 297us/step - loss: 0.0098 - acc: 1.0000 - val_loss: 0.3053 - val_acc: 0.9380\n",
      "Epoch 189/200\n",
      "300/300 [==============================] - 0s 274us/step - loss: 0.0104 - acc: 1.0000 - val_loss: 0.3009 - val_acc: 0.9380\n",
      "Epoch 190/200\n",
      "300/300 [==============================] - 0s 301us/step - loss: 0.0652 - acc: 0.9933 - val_loss: 0.3062 - val_acc: 0.9302\n",
      "Epoch 191/200\n",
      "300/300 [==============================] - 0s 315us/step - loss: 0.0234 - acc: 0.9967 - val_loss: 0.2847 - val_acc: 0.9302\n",
      "Epoch 192/200\n",
      "300/300 [==============================] - 0s 355us/step - loss: 0.0313 - acc: 0.9900 - val_loss: 0.2918 - val_acc: 0.9302\n",
      "Epoch 193/200\n",
      "300/300 [==============================] - 0s 312us/step - loss: 0.0874 - acc: 0.9867 - val_loss: 0.2713 - val_acc: 0.9302\n",
      "Epoch 194/200\n",
      "300/300 [==============================] - 0s 304us/step - loss: 0.0286 - acc: 0.9933 - val_loss: 0.2752 - val_acc: 0.9302\n",
      "Epoch 195/200\n",
      "300/300 [==============================] - 0s 282us/step - loss: 0.0317 - acc: 0.9933 - val_loss: 0.2821 - val_acc: 0.9302\n",
      "Epoch 196/200\n",
      "300/300 [==============================] - 0s 288us/step - loss: 0.0377 - acc: 0.9933 - val_loss: 0.2901 - val_acc: 0.9302\n",
      "Epoch 197/200\n",
      "300/300 [==============================] - 0s 310us/step - loss: 0.0198 - acc: 0.9933 - val_loss: 0.2892 - val_acc: 0.9302\n",
      "Epoch 198/200\n",
      "300/300 [==============================] - 0s 295us/step - loss: 0.0212 - acc: 0.9933 - val_loss: 0.2722 - val_acc: 0.9302\n",
      "Epoch 199/200\n",
      "300/300 [==============================] - 0s 310us/step - loss: 0.0216 - acc: 0.9900 - val_loss: 0.2709 - val_acc: 0.9302\n",
      "Epoch 200/200\n",
      "300/300 [==============================] - 0s 295us/step - loss: 0.0176 - acc: 1.0000 - val_loss: 0.2726 - val_acc: 0.9302\n"
     ]
    }
   ],
   "source": [
    "temp = model.fit(NN_X_train, NN_y_train,\n",
    "                    batch_size=16,\n",
    "                    epochs=200,\n",
    "                    verbose=1,\n",
    "                    validation_data=(NN_X_val, NN_y_val))"
   ]
  },
  {
   "cell_type": "code",
   "execution_count": 27,
   "metadata": {},
   "outputs": [
    {
     "data": {
      "text/plain": [
       "<matplotlib.legend.Legend at 0x7f53ac0b7cf8>"
      ]
     },
     "execution_count": 27,
     "metadata": {},
     "output_type": "execute_result"
    },
    {
     "data": {
      "image/png": "[encoded data removed]",
      "text/plain": [
       "<Figure size 432x288 with 1 Axes>"
      ]
     },
     "metadata": {},
     "output_type": "display_data"
    },
    {
     "data": {
      "image/png": "[encoded data removed]",
      "text/plain": [
       "<Figure size 432x288 with 1 Axes>"
      ]
     },
     "metadata": {},
     "output_type": "display_data"
    }
   ],
   "source": [
    "%matplotlib inline\n",
    "\n",
    "curr_loss=temp.history['loss']\n",
    "curr_val_loss=temp.history['val_loss']\n",
    "curr_acc=temp.history['acc']\n",
    "curr_val_acc=temp.history['val_acc']   \n",
    "\n",
    "plt.figure()\n",
    "plt.xlabel('Epochs')\n",
    "plt.ylabel('Loss')\n",
    "plt.plot(curr_loss)\n",
    "plt.plot(curr_val_loss)\n",
    "plt.legend(['Training', 'Validation'])\n",
    "\n",
    "plt.figure()\n",
    "plt.xlabel('Epochs')\n",
    "plt.ylabel('Accuracy')\n",
    "plt.plot(curr_acc)\n",
    "plt.plot(curr_val_acc)\n",
    "plt.legend(['Training', 'Validation'], loc='lower right')"
   ]
  }
 ],
 "metadata": {
  "kernelspec": {
   "display_name": "Python 3",
   "language": "python",
   "name": "python3"
  },
  "language_info": {
   "codemirror_mode": {
    "name": "ipython",
    "version": 2
   },
   "file_extension": ".py",
   "mimetype": "text/x-python",
   "name": "python",
   "nbconvert_exporter": "python",
   "pygments_lexer": "ipython2",
   "version": "2.7.12"
  }
 },
 "nbformat": 4,
 "nbformat_minor": 2
}
